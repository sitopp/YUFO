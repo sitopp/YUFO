{
  "nbformat": 4,
  "nbformat_minor": 0,
  "metadata": {
    "colab": {
      "provenance": [],
      "include_colab_link": true
    },
    "kernelspec": {
      "name": "python3",
      "display_name": "Python 3"
    },
    "language_info": {
      "name": "python"
    }
  },
  "cells": [
    {
      "cell_type": "markdown",
      "metadata": {
        "id": "view-in-github",
        "colab_type": "text"
      },
      "source": [
        "<a href=\"https://colab.research.google.com/github/sitopp/YUFO/blob/main/yuho_ChatGPT_with_LangChain.ipynb\" target=\"_parent\"><img src=\"https://colab.research.google.com/assets/colab-badge.svg\" alt=\"Open In Colab\"/></a>"
      ]
    },
    {
      "cell_type": "markdown",
      "source": [
        "# LangChainを使ってChatGPTに有価証券報告書を読み解いてもらう\n",
        "\n",
        "\n",
        "\n",
        "\n",
        "[事前準備]\n",
        "* 金融庁のサイトから有価証券報告書をダウンロードし、Google Driveにアップ\n",
        "\n",
        "[本体]\n",
        "1.   OpenAPIキーの設定と、関連ライブラリのインストールとインポート\n",
        "2.   CSVをロードし、LangChainを使ってチャンクに分割する\n",
        "3.   テキスト情報を数値化（Embedding)し、保存する\n",
        "4.   データ取得関数のセットアップ\n",
        "5.   チャットbotの作成\n",
        "\n",
        "\n",
        "こちらのスクリプトは、@windows222(まさ まさ)さんの記事 https://qiita.com/windows222/items/232f05bafa95a9c8874e を参考にして独自の情報を追加しました。\n",
        "\n",
        "\n",
        "\n"
      ],
      "metadata": {
        "id": "_x1GI7Fo8Y7x"
      }
    },
    {
      "cell_type": "markdown",
      "source": [
        "# 0. 金融庁のサイトから有価証券報告書をダウンロードし、Google Driveにアップ\n",
        "\n",
        "\n",
        "\n",
        "1.  金融庁EDINETにアクセスし、読み解きしたい有価証券報告書のcsvファイルをダウンロード\n",
        "https://disclosure2.edinet-fsa.go.jp/week0010.aspx\n",
        "\n",
        "2.   GoogleDriveの「マイドライブ」以下にフォルダを作成し、csvをアップロード\n",
        "  * この構成を前提に進めます。\n",
        "      * マイドライブ > yuho > before : csvをアップロード\n",
        "      * マイドライブ > yuho > encoded\n",
        "      * マイドライブ > yuho > after\n",
        "\n",
        "3.  必ず以下の「file_id」で指定するファイル名を変更。\n",
        "必要に応じてパス指定も変更する。\n",
        "\n",
        "注意：このスクリプトでは、1つの有価証券報告書のみ読み込ませるようになってます。複数の企業に対応する場合は拡張が必要です。\n",
        "\n",
        "\n",
        "\n"
      ],
      "metadata": {
        "id": "czzkIHnJF9vP"
      }
    },
    {
      "cell_type": "code",
      "source": [
        "# ファイル名指定\n",
        "# file_id = 'jpcrp040300-q3r-001_E33601-000_2023-06-30_01_2023-08-14'\n",
        "file_id = 'jpcrp040300-q3r-001_E36070-000_2023-05-31_01_2023-07-14' #アララさん\n",
        "# file_id = 'jpcrp040300-q3r-001_E37815-000_2023-03-31_01_2023-05-12' #unerry\n",
        "\n",
        "\n",
        "# パス指定\n",
        "before_file = '/content/drive/MyDrive/yuho/before/'+file_id+'.csv'\n",
        "encoded_file = '/content/drive/MyDrive/yuho/encoded/'+file_id+'.csv'\n",
        "after_file='/content/drive/MyDrive/yuho/after/'+file_id+\".csv\"\n"
      ],
      "metadata": {
        "id": "524_1UZTXq3q"
      },
      "execution_count": null,
      "outputs": []
    },
    {
      "cell_type": "markdown",
      "source": [
        "# 1. OpenAPIキーの設定と、関連ライブラリのインストール\n"
      ],
      "metadata": {
        "id": "Q24Y-g6h-Bg0"
      }
    },
    {
      "cell_type": "markdown",
      "source": [
        "Google ドライブをマウント"
      ],
      "metadata": {
        "id": "6b-XA30eSOqF"
      }
    },
    {
      "cell_type": "code",
      "source": [
        "from google.colab import drive\n",
        "drive.mount('/content/drive/')"
      ],
      "metadata": {
        "id": "76kErayAFoSE"
      },
      "execution_count": null,
      "outputs": []
    },
    {
      "cell_type": "markdown",
      "source": [
        "ライブラリのインストール\n"
      ],
      "metadata": {
        "id": "MndTOrcisUJ2"
      }
    },
    {
      "cell_type": "code",
      "source": [
        "!pip install -q langchain==0.0.150 pypdf pandas matplotlib tiktoken textract transformers openai faiss-cpu requests beautifulsoup4"
      ],
      "metadata": {
        "id": "gk2J2sYYjTkM"
      },
      "execution_count": null,
      "outputs": []
    },
    {
      "cell_type": "markdown",
      "source": [
        "コード書く"
      ],
      "metadata": {
        "id": "BOMGbx2wsZKX"
      }
    },
    {
      "cell_type": "code",
      "source": [
        "import os\n",
        "import pandas as pd\n",
        "\n",
        "import requests\n",
        "import textract\n",
        "# from bs4 import BeautifulSoup\n",
        "import matplotlib.pyplot as plt\n",
        "from transformers import GPT2TokenizerFast\n",
        "# from langchain.document_loaders import PyPDFLoader\n",
        "from langchain.text_splitter import RecursiveCharacterTextSplitter\n",
        "from langchain.embeddings import OpenAIEmbeddings\n",
        "from langchain.vectorstores import FAISS\n",
        "from langchain.chains.question_answering import load_qa_chain\n",
        "from langchain.llms import OpenAI\n",
        "from langchain.chains import ConversationalRetrievalChain\n"
      ],
      "metadata": {
        "id": "l-uszlwN641q"
      },
      "execution_count": null,
      "outputs": []
    },
    {
      "cell_type": "markdown",
      "source": [
        "以下にOpenAIから取得したキーを設定します。キーは以下のURLから取得することができます。  \n",
        "（アカウントの作成が必要です）  \n",
        "https://platform.openai.com/account/api-keys\n",
        "\n"
      ],
      "metadata": {
        "id": "WAaaEtRPFzbF"
      }
    },
    {
      "cell_type": "code",
      "source": [
        "# ここにOpenAIから取得したキーを設定します。\n",
        "os.environ[\"OPENAI_API_KEY\"] = 'ここに書く'"
      ],
      "metadata": {
        "id": "E2Buv5Y0uFr8"
      },
      "execution_count": null,
      "outputs": []
    },
    {
      "cell_type": "markdown",
      "source": [
        "# 2. CSVをロードし、LangChainを使ってチャンクに分割する\n",
        "\n",
        "\n",
        "\n"
      ],
      "metadata": {
        "id": "RLULMPXa-Hu8"
      }
    },
    {
      "cell_type": "markdown",
      "source": [
        "金融庁の有価証券報告書csvファイルはutf-16leで書かれている。\n",
        "このままだと使えないのでutf-8にエンコーディングする。\n",
        "\n",
        "\n",
        "\n"
      ],
      "metadata": {
        "id": "ivzeCqJBXslh"
      }
    },
    {
      "cell_type": "code",
      "source": [
        "\n",
        "\n",
        "# UTF-16LE エンコーディングでファイルを開く\n",
        "with open(before_file, 'r', encoding='utf-16le') as file:\n",
        "    content = file.read()\n",
        "\n",
        "# UTF-8 エンコーディングで内容を新しいファイルに書き込む\n",
        "with open(encoded_file, 'w', encoding='utf-8') as file:\n",
        "    file.write(content)\n",
        "\n",
        "# ファイルを読み込む\n",
        "with open(encoded_file, 'r') as f:\n",
        "    text = f.read()\n",
        "\n"
      ],
      "metadata": {
        "id": "_gPxtFtjHf7v"
      },
      "execution_count": null,
      "outputs": []
    },
    {
      "cell_type": "markdown",
      "source": [
        "トークンをカウントし、スプリットする"
      ],
      "metadata": {
        "id": "2MLbHZGgYAMD"
      }
    },
    {
      "cell_type": "code",
      "source": [
        "# Create function to count tokens\n",
        "tokenizer = GPT2TokenizerFast.from_pretrained(\"gpt2\")\n",
        "\n",
        "def count_tokens(text: str) -> int:\n",
        "    return len(tokenizer.encode(text))\n",
        "\n",
        "# Split text into chunks\n",
        "text_splitter = RecursiveCharacterTextSplitter(\n",
        "    # Set a really small chunk size, just to show.\n",
        "    chunk_size = 512,\n",
        "    chunk_overlap  = 24,\n",
        "    length_function = count_tokens,\n",
        ")\n",
        "\n",
        "chunks = text_splitter.create_documents([text])\n"
      ],
      "metadata": {
        "id": "rvFn1Lv2X-6r"
      },
      "execution_count": null,
      "outputs": []
    },
    {
      "cell_type": "code",
      "source": [
        "print (chunks)"
      ],
      "metadata": {
        "id": "f9AMHAV4_LFs"
      },
      "execution_count": null,
      "outputs": []
    },
    {
      "cell_type": "markdown",
      "source": [
        "# 3. テキスト情報を数値化（Embedding)し、保存する\n",
        "ここでは、これまでに読み込んだ3つの情報をVector storeに保存します。。\n",
        "Vector storeはいくつも種類がありますが、今回はFacebook製のFAISSを利用します。  \n",
        "\n",
        "\n",
        "> 利用可能なVectorStoreはこちらを参照してください。\n",
        "https://python.langchain.com/en/latest/modules/indexes/vectorstores.html#\n",
        "\n",
        "\n"
      ],
      "metadata": {
        "id": "_IlznUDK-i2m"
      }
    },
    {
      "cell_type": "code",
      "source": [
        "# Get embedding model\n",
        "embeddings = OpenAIEmbeddings()\n",
        "\n",
        "#  vector databaseの作成\n",
        "db = FAISS.from_documents(chunks, embeddings)"
      ],
      "metadata": {
        "id": "92ObhTAKnZzQ"
      },
      "execution_count": null,
      "outputs": []
    },
    {
      "cell_type": "markdown",
      "source": [
        "# 4. データ取得関数のセットアップ\n",
        "\n",
        "次に、先ほど作ったFAISSのvector storeにqueryを投げてどの様なデータが返ってくるかを確認します。"
      ],
      "metadata": {
        "id": "2LPwdGDP-nPO"
      }
    },
    {
      "cell_type": "code",
      "source": [
        "query = \"この企業の株式発行数を教えて\"\n",
        "# FAISSに対して検索。検索は文字一致ではなく意味一致で検索する(Vector, Embbeding)\n",
        "docs = db.similarity_search(query)\n",
        "docs # ここで関係のありそうなデータが返ってきていることを確認できる"
      ],
      "metadata": {
        "id": "RWP92zGg5Nb_"
      },
      "execution_count": null,
      "outputs": []
    },
    {
      "cell_type": "markdown",
      "source": [
        "## ユーザからのクエリを使って関連するデータを取得できる様にQAチェインを作成する\n",
        "\n",
        "ここで、これまでにロードしたドキュメントに書かれた情報に関する質問を投げてみて、期待する結果が返ってくるかどうかを確認します。\n",
        "\n",
        "\n",
        ">  以下コード内のtemperatureを変更することにより、情報の精度を上げることができます。(0-2までの値で指定）0にした場合、質問内容の回答がはっきりわからない場合はI don't knowと言われます。。\n",
        "\n"
      ],
      "metadata": {
        "id": "PcwebAXEyZVw"
      }
    },
    {
      "cell_type": "code",
      "source": [
        "# 得られた情報から回答を導き出すためのプロセスを以下の4つから選択する。いずれもProsとConsがあるため、適切なものを選択する必要がある。\n",
        "# staffing ... 得られた候補をそのままインプットとする\n",
        "# map_reduce ... 得られた候補のサマリをそれぞれ生成し、そのサマリのサマリを作ってインプットとする\n",
        "# map_rerank ... 得られた候補にそれぞれスコアを振って、いちばん高いものをインプットとして回答を得る\n",
        "# refine  ... 得られた候補のサマリを生成し、次にそのサマリと次の候補の様裏を作ることを繰り返す\n",
        "chain = load_qa_chain(OpenAI(temperature=0.1,max_tokens=1000), chain_type=\"stuff\")\n",
        "# chain = load_qa_chain(OpenAI(temperature=0.1,max_tokens=1000,model_name=\"gpt-4-0613\"), chain_type=\"stuff\")\n",
        "query = \"この企業の株式発行数を教えて\"\n",
        "docs = db.similarity_search(query)\n",
        "# langchainを使って検索\n",
        "chain.run(input_documents=docs, question=query)"
      ],
      "metadata": {
        "id": "1Kv_sM8G5qAo"
      },
      "execution_count": null,
      "outputs": []
    },
    {
      "cell_type": "markdown",
      "source": [
        "# 5. チャットbotの作成（Option)\n",
        "ここでは、これまでに読み込んだドキュメントを使って簡易のチャットボットを作成します。\n",
        "ここを実行するとダイアログが表示されますので、前に読み込ませたドキュメントに関する質問をして見てください。"
      ],
      "metadata": {
        "id": "U_nH1qoL-w--"
      }
    },
    {
      "cell_type": "code",
      "source": [
        "from IPython.display import display\n",
        "import ipywidgets as widgets\n",
        "\n",
        "# vextordbをretrieverとして使うconversation chainを作成します。これはチャット履歴の管理も可能にします。\n",
        "qa = ConversationalRetrievalChain.from_llm(OpenAI(temperature=0.1), db.as_retriever())"
      ],
      "metadata": {
        "id": "evF7_Dyhtcaf"
      },
      "execution_count": null,
      "outputs": []
    },
    {
      "cell_type": "code",
      "source": [
        "chat_history = []\n",
        "\n",
        "def on_submit(_):\n",
        "    query = input_box.value\n",
        "    input_box.value = \"\"\n",
        "\n",
        "    if query.lower() == 'exit':\n",
        "        print(\"Thank you for using the State of the Union chatbot!\")\n",
        "        return\n",
        "\n",
        "    result = qa({\"question\": query, \"chat_history\": chat_history})\n",
        "    chat_history.append((query, result['answer']))\n",
        "\n",
        "    display(widgets.HTML(f'<b>User:</b> {query}'))\n",
        "    display(widgets.HTML(f'<b><font color=\"blue\">Chatbot:</font></b> {result[\"answer\"]}'))\n",
        "\n",
        "print(\"Welcome to the Transformers chatbot! Type 'exit' to stop.\")\n",
        "\n",
        "input_box = widgets.Text(placeholder='Please enter your question:')\n",
        "input_box.on_submit(on_submit)\n",
        "\n",
        "display(input_box)"
      ],
      "metadata": {
        "id": "-pHw5siewPNt"
      },
      "execution_count": null,
      "outputs": []
    }
  ]
}
